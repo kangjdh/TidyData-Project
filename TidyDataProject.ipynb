{
 "cells": [
  {
   "cell_type": "markdown",
   "metadata": {},
   "source": [
    "# Tidy Data Project\n",
    "The aim of this notebook is to clean and organize data regarding the **federal R&D budget** by applying the **tidy data principles**, followed by the execution of basic exploratory data analyses.\n",
    "\n",
    "Let's start by downloading and importing the data we are to tidy and study, which is the R&D spending of various government subsidiaries throughout 1976 to 2017 and the GDP of the subsequent year."
   ]
  },
  {
   "cell_type": "code",
   "execution_count": 204,
   "metadata": {},
   "outputs": [],
   "source": [
    "# download dataset\n",
    "# please follow the instructions included in the readme for this notebook under the subtitle \"Downloading \n",
    "# and moving the dataset\""
   ]
  },
  {
   "cell_type": "code",
   "execution_count": 205,
   "metadata": {},
   "outputs": [],
   "source": [
    "import pandas as pd\n",
    "\n",
    "# import dataset into notebook\n",
    "df_fedrd = pd.read_csv('fed_rd_year&gdp.csv')"
   ]
  },
  {
   "cell_type": "markdown",
   "metadata": {},
   "source": [
    "### Data Cleaning and Tidy Process\n",
    "\n",
    "Contrary to the what a layperson may assume, much of a data scientist's time is not spent observing and drawing conclusions based on the collected data, but rather spent on tidying and organizing the numbers. With many datasets being collected in bizarre, confusing manners, this step is diligent commitment to this long process is necessary so that the *data is structured in a standardized way* where each cell has a clear value tied with specific variables and observations. <br>\n",
    "\n",
    "To form tidy data, we must make sure that **(1) each variable forms a column**, **(2) each observation forms a row**, and finally **(3) each type of observational unit forms a table**. \n",
    "<br><br>\n",
    "Let us take a peek at the first couple of rows of the original dataset, which is named `df_fedrd` here."
   ]
  },
  {
   "cell_type": "code",
   "execution_count": 206,
   "metadata": {},
   "outputs": [
    {
     "name": "stdout",
     "output_type": "stream",
     "text": [
      "  department  1976_gdp1790000000000.0  1977_gdp2028000000000.0  \\\n",
      "0        DHS                      NaN                      NaN   \n",
      "1        DOC             8.190000e+08             8.370000e+08   \n",
      "2        DOD             3.569600e+10             3.796700e+10   \n",
      "3        DOE             1.088200e+10             1.374100e+10   \n",
      "4        DOT             1.142000e+09             1.095000e+09   \n",
      "\n",
      "   1978_gdp2278000000000.0  1979_gdp2570000000000.0  1980_gdp2797000000000.0  \\\n",
      "0                      NaN                      NaN                      NaN   \n",
      "1             8.710000e+08             9.520000e+08             9.450000e+08   \n",
      "2             3.702200e+10             3.717400e+10             3.700500e+10   \n",
      "3             1.566300e+10             1.561200e+10             1.522600e+10   \n",
      "4             1.156000e+09             1.004000e+09             1.048000e+09   \n",
      "\n",
      "   1981_gdp3138000000000.0  1982_gdp3314000000000.0  1983_gdp3541000000000.0  \\\n",
      "0                      NaN                      NaN                      NaN   \n",
      "1             8.290000e+08             6.930000e+08             7.000000e+08   \n",
      "2             4.173700e+10             4.689300e+10             5.100800e+10   \n",
      "3             1.479800e+10             1.216000e+10             1.112900e+10   \n",
      "4             9.780000e+08             7.020000e+08             8.000000e+08   \n",
      "\n",
      "   1984_gdp3953000000000.0  ...  2008_gdp14752000000000.0  \\\n",
      "0                      NaN  ...                1155000000   \n",
      "1             7.550000e+08  ...                1379000000   \n",
      "2             5.813900e+10  ...               94247000000   \n",
      "3             1.173100e+10  ...               11343000000   \n",
      "4             1.018000e+09  ...                1016000000   \n",
      "\n",
      "   2009_gdp14415000000000.0  2010_gdp14799000000000.0  \\\n",
      "0                1258000000                1009000000   \n",
      "1                1594000000                1521000000   \n",
      "2               93527000000               94325000000   \n",
      "3               11823000000               12329000000   \n",
      "4                1062000000                1221000000   \n",
      "\n",
      "   2011_gdp15379000000000.0  2012_gdp16027000000000.0  \\\n",
      "0                 848000000                 527000000   \n",
      "1                1357000000                1373000000   \n",
      "2               88220000000               81543000000   \n",
      "3               11902000000               11839000000   \n",
      "4                1064000000                1007000000   \n",
      "\n",
      "   2013_gdp16516000000000.0  2014_gdp17244000000000.0  \\\n",
      "0                 737000000                1092000000   \n",
      "1                1397000000                1641000000   \n",
      "2               70583000000               70341000000   \n",
      "3               11528000000               12686000000   \n",
      "4                 881000000                 843000000   \n",
      "\n",
      "   2015_gdp17983000000000.0  2016_gdp18470000000000.0  \\\n",
      "0                 960000000                 602000000   \n",
      "1                1596000000                1730000000   \n",
      "2               69522000000               75213000000   \n",
      "3               15033000000               15504000000   \n",
      "4                 926000000                 910000000   \n",
      "\n",
      "   2017_gdp19177000000000.0  \n",
      "0                 735000000  \n",
      "1                1824000000  \n",
      "2               51862000000  \n",
      "3               15032000000  \n",
      "4                 936000000  \n",
      "\n",
      "[5 rows x 43 columns]\n"
     ]
    }
   ],
   "source": [
    "print(df_fedrd.head())"
   ]
  },
  {
   "cell_type": "markdown",
   "metadata": {},
   "source": [
    "To put meaning to each value, we must identify the variable and observation that it belongs to. \n",
    "\n",
    "For this dataset, the variables that we must make into individual columns are department, year, R&D spending, and GDP. We can see above that department is in its proper formation, but R&D spending is under a column name that includes both the year and the year's GDP. Using the tidy data principles aforementioned, we will reorganize the values into a structured, readable manner with all appropriate columns and their observations."
   ]
  },
  {
   "cell_type": "code",
   "execution_count": 207,
   "metadata": {},
   "outputs": [
    {
     "name": "stdout",
     "output_type": "stream",
     "text": [
      "  department  year  R&D spending              GDP\n",
      "0        DHS  1976           NaN  1790000000000.0\n",
      "1        DOC  1976  8.190000e+08  1790000000000.0\n",
      "2        DOD  1976  3.569600e+10  1790000000000.0\n",
      "3        DOE  1976  1.088200e+10  1790000000000.0\n",
      "4        DOT  1976  1.142000e+09  1790000000000.0\n"
     ]
    }
   ],
   "source": [
    "## tidy data following the tidy data principles\n",
    "\n",
    "# melt the dataframe so that 'year' and 'R&D spending' are two separate columns\n",
    "df_fedrd_melted = pd.melt(df_fedrd,\n",
    "                          id_vars = ['department'],\n",
    "                          value_vars = df_fedrd.columns[1:],\n",
    "                          var_name = 'year',\n",
    "                          value_name = 'R&D spending')\n",
    "\n",
    "# split the 'year' column using str.split into a year and GDP column\n",
    "df_fedrd_melted[['year', 'GDP']] = df_fedrd_melted['year'].str.split(pat = '_', expand = True)\n",
    "\n",
    "# clean the GDP column to remove unnecessary characters and make it more readable\n",
    "# for this dataset we are removing the 'gdp' before each value under the GDP column\n",
    "df_fedrd_melted['GDP'] = df_fedrd_melted['GDP'].str.replace('gdp','')\n",
    "\n",
    "# print the first couple of columns of the tidied dataset\n",
    "# for the full dataset, delete the \".head()\" in the code line below # warning: output will be truncated\n",
    "print(df_fedrd_melted.head())"
   ]
  },
  {
   "cell_type": "markdown",
   "metadata": {},
   "source": [
    "### Pivot Tables\n",
    "\n",
    "These tables are simple tools that can be used to dive deeper into specific variables and identify patterns within the tidied data using aggregation functions such as mean, max, etc. \n",
    "<br><br>\n",
    "Here we will create and look at two tables using the `pd.pivot_table` function containing the following:\n",
    "1. R&D spending used by each department on average from 1967 to 2017\n",
    "2. average R&D spending used by each department from 1967-2017 as a percentage of the nation's GDP"
   ]
  },
  {
   "cell_type": "code",
   "execution_count": 208,
   "metadata": {},
   "outputs": [
    {
     "name": "stdout",
     "output_type": "stream",
     "text": [
      "Average R&D Spending by Department from 1976-2017\n",
      "            R&D spending\n",
      "department              \n",
      "DHS         9.948750e+08\n",
      "DOC         1.231500e+09\n",
      "DOD         6.468519e+10\n",
      "DOE         1.188338e+10\n",
      "DOT         9.177857e+08\n",
      "EPA         7.504286e+08\n",
      "HHS         2.229676e+10\n",
      "Interior    9.005714e+08\n",
      "NASA        1.214026e+10\n",
      "NIH         2.111757e+10\n",
      "NSF         4.038810e+09\n",
      "Other       1.494762e+09\n",
      "USDA        2.380810e+09\n",
      "VA          7.338810e+08\n",
      "\n",
      "R&D Spending by Department as a % of GDP from 1976-2017 (Greatest to Least)\n",
      "            R&D as a percent of GDP\n",
      "department                         \n",
      "DOD                        0.931092\n",
      "HHS                        0.269553\n",
      "NIH                        0.251655\n",
      "DOE                        0.207941\n",
      "NASA                       0.198547\n",
      "NSF                        0.054083\n",
      "USDA                       0.036455\n",
      "Other                      0.025885\n",
      "DOC                        0.017452\n",
      "Interior                   0.016046\n",
      "DOT                        0.015749\n",
      "EPA                        0.013687\n",
      "VA                         0.009005\n",
      "DHS                        0.006893\n"
     ]
    }
   ],
   "source": [
    "## create a pivot table that shows 'R&D spending' used by each department on average throughout all years\n",
    "# drop the GDP column using 'iloc' as it is not needed in this specific pivot table\n",
    "pivot_table_avg_rdspending = pd.pivot_table(df_fedrd_melted.iloc[:, [0, 1, 2]],\n",
    "               index = 'department',\n",
    "               values = 'R&D spending',\n",
    "               aggfunc = 'mean')\n",
    "\n",
    "print(f'Average R&D Spending by Department from 1976-2017')\n",
    "print(pivot_table_avg_rdspending)\n",
    "\n",
    "## create a pivot table that shows each department's R&D spending as a percentage of the GDP from greatest to least\n",
    "\n",
    "# drop columns that have a NaN value for R&D spending to prevent following calculation TypeError\n",
    "df_fedrd_melted.dropna(subset = ['R&D spending', 'GDP'], inplace = True)\n",
    "\n",
    "# make the values of both R&D spending and GDP columns numeric to prevent TypeError\n",
    "df_fedrd_melted['R&D spending'] = pd.to_numeric(df_fedrd_melted['R&D spending'], errors='coerce')\n",
    "df_fedrd_melted['GDP'] = pd.to_numeric(df_fedrd_melted['GDP'], errors='coerce')\n",
    "\n",
    "# calculate the R&D as a percentage of GDP\n",
    "df_fedrd_melted['R&D as a percent of GDP'] = (df_fedrd_melted['R&D spending'] / df_fedrd_melted['GDP']) * 100\n",
    "\n",
    "pivot_table_rdspending_pc_GDP = pd.pivot_table(df_fedrd_melted,\n",
    "                                               index = 'department',\n",
    "                                               values = 'R&D as a percent of GDP',\n",
    "                                               aggfunc = 'mean')\n",
    "\n",
    "# sort the results from greatest percentage to smallest percentage\n",
    "pivot_table_rdspending_pc_GDP_sorted = pivot_table_rdspending_pc_GDP.sort_values(by = 'R&D as a percent of GDP', ascending=False)\n",
    "\n",
    "print() # print line break between two pivot tables\n",
    "print(f'R&D Spending by Department as a % of GDP from 1976-2017 (Greatest to Least)')\n",
    "print(pivot_table_rdspending_pc_GDP_sorted)"
   ]
  }
 ],
 "metadata": {
  "kernelspec": {
   "display_name": "base",
   "language": "python",
   "name": "python3"
  },
  "language_info": {
   "codemirror_mode": {
    "name": "ipython",
    "version": 3
   },
   "file_extension": ".py",
   "mimetype": "text/x-python",
   "name": "python",
   "nbconvert_exporter": "python",
   "pygments_lexer": "ipython3",
   "version": "3.12.4"
  }
 },
 "nbformat": 4,
 "nbformat_minor": 2
}
